{
 "cells": [
  {
   "cell_type": "code",
   "execution_count": 16,
   "metadata": {},
   "outputs": [
    {
     "ename": "FileNotFoundError",
     "evalue": "[Errno 2] No such file or directory: 'CIFAR_10_Test_Batch-Copy1'",
     "output_type": "error",
     "traceback": [
      "\u001b[0;31m---------------------------------------------------------------------------\u001b[0m",
      "\u001b[0;31mFileNotFoundError\u001b[0m                         Traceback (most recent call last)",
      "\u001b[0;32m<ipython-input-16-2138b71f622a>\u001b[0m in \u001b[0;36m<module>\u001b[0;34m\u001b[0m\n\u001b[1;32m     23\u001b[0m     \u001b[0;32mreturn\u001b[0m \u001b[0mdict\u001b[0m\u001b[0;34m\u001b[0m\u001b[0;34m\u001b[0m\u001b[0m\n\u001b[1;32m     24\u001b[0m \u001b[0;34m\u001b[0m\u001b[0m\n\u001b[0;32m---> 25\u001b[0;31m \u001b[0mfile\u001b[0m \u001b[0;34m=\u001b[0m \u001b[0munpickle\u001b[0m\u001b[0;34m(\u001b[0m\u001b[0mfilename\u001b[0m\u001b[0;34m)\u001b[0m\u001b[0;34m\u001b[0m\u001b[0;34m\u001b[0m\u001b[0m\n\u001b[0m\u001b[1;32m     26\u001b[0m \u001b[0mfile2\u001b[0m \u001b[0;34m=\u001b[0m \u001b[0munpickle\u001b[0m\u001b[0;34m(\u001b[0m\u001b[0mfilename2\u001b[0m\u001b[0;34m)\u001b[0m\u001b[0;34m\u001b[0m\u001b[0;34m\u001b[0m\u001b[0m\n\u001b[1;32m     27\u001b[0m \u001b[0;34m\u001b[0m\u001b[0m\n",
      "\u001b[0;32m<ipython-input-16-2138b71f622a>\u001b[0m in \u001b[0;36munpickle\u001b[0;34m(file)\u001b[0m\n\u001b[1;32m     19\u001b[0m \u001b[0;32mdef\u001b[0m \u001b[0munpickle\u001b[0m\u001b[0;34m(\u001b[0m\u001b[0mfile\u001b[0m\u001b[0;34m)\u001b[0m\u001b[0;34m:\u001b[0m\u001b[0;34m\u001b[0m\u001b[0;34m\u001b[0m\u001b[0m\n\u001b[1;32m     20\u001b[0m     \u001b[0;32mimport\u001b[0m \u001b[0mpickle\u001b[0m\u001b[0;34m\u001b[0m\u001b[0;34m\u001b[0m\u001b[0m\n\u001b[0;32m---> 21\u001b[0;31m     \u001b[0;32mwith\u001b[0m \u001b[0mopen\u001b[0m\u001b[0;34m(\u001b[0m\u001b[0mfile\u001b[0m\u001b[0;34m,\u001b[0m \u001b[0;34m'rb'\u001b[0m\u001b[0;34m)\u001b[0m \u001b[0;32mas\u001b[0m \u001b[0mfo\u001b[0m\u001b[0;34m:\u001b[0m\u001b[0;34m\u001b[0m\u001b[0;34m\u001b[0m\u001b[0m\n\u001b[0m\u001b[1;32m     22\u001b[0m         \u001b[0mdict\u001b[0m \u001b[0;34m=\u001b[0m \u001b[0mpickle\u001b[0m\u001b[0;34m.\u001b[0m\u001b[0mload\u001b[0m\u001b[0;34m(\u001b[0m\u001b[0mfo\u001b[0m\u001b[0;34m,\u001b[0m \u001b[0mencoding\u001b[0m\u001b[0;34m=\u001b[0m\u001b[0;34m'bytes'\u001b[0m\u001b[0;34m)\u001b[0m\u001b[0;34m\u001b[0m\u001b[0;34m\u001b[0m\u001b[0m\n\u001b[1;32m     23\u001b[0m     \u001b[0;32mreturn\u001b[0m \u001b[0mdict\u001b[0m\u001b[0;34m\u001b[0m\u001b[0;34m\u001b[0m\u001b[0m\n",
      "\u001b[0;31mFileNotFoundError\u001b[0m: [Errno 2] No such file or directory: 'CIFAR_10_Test_Batch-Copy1'"
     ]
    }
   ],
   "source": [
    "import numpy             as np\n",
    "import matplotlib.pyplot as plt\n",
    "import csv \n",
    "import pickle\n",
    "\n",
    "import ipywidgets      as widgets\n",
    "from   ipywidgets      import Button, HBox, VBox\n",
    "from   IPython.display import display\n",
    "from   IPython.display import clear_output\n",
    "from IPython.display import display, HTML\n",
    "from IPython.display import FileLink, FileLinks\n",
    "\n",
    "\n",
    "\n",
    "\n",
    "filename   = 'CIFAR_10_Test_Batch-Copy1'\n",
    "filename2 = 'Batch Names-Copy1'\n",
    "\n",
    "def unpickle(file):\n",
    "    import pickle\n",
    "    with open(file, 'rb') as fo:\n",
    "        dict = pickle.load(fo, encoding='bytes')\n",
    "    return dict\n",
    "\n",
    "file = unpickle(filename)\n",
    "file2 = unpickle(filename2)\n",
    "\n",
    "\n",
    "images = file[b'data'] \n",
    "labels = file[b'labels']\n",
    "label_names = file2[b'label_names']\n",
    "\n",
    "\n",
    "images = images.reshape(len(labels), 3, 32, 32)\n",
    "\n",
    "def imagshow(img):\n",
    "    plt.imshow(np.transpose(img, (1, 2, 0))) #flip the grid from side to normal\n",
    "    plt.show()\n",
    "# show the image \n",
    "    \n",
    "exImages = np.random.randint(0,len(labels))\n",
    "\n",
    "\n",
    "#example image \n",
    "\n",
    "dataset = {}\n",
    "total = len(images)\n",
    "image_ids = np.arange(total)\n",
    "images_per_person = 200\n",
    "people = int(total/images_per_person)\n",
    "\n",
    "for I in range(people):\n",
    "    ind1 = I*images_per_person\n",
    "    ind2 = (I+1)*images_per_person\n",
    "    dataset[I] = images[ind1:ind2,:,:,:]\n",
    "    \n",
    "results= {}    \n",
    "\n",
    "I = 0\n",
    "#variable used, original value is 0\n",
    "answers = []\n",
    "#The results of people's answers in the survey\n",
    "outfile = 'ans_'+filename\n",
    "#A file with all of the answers (I create this one)\n",
    "datalen = len(labels)\n",
    "\n",
    "def user_id_images(b):\n",
    "    userid.close()\n",
    "    submit.close()\n",
    "    V = userid.value\n",
    "    images = dataset[V]\n",
    "    \n",
    "    with out:\n",
    "        imagshow(images[V])\n",
    "    display(out)\n",
    "    \n",
    "    display(VBox([widgetsBox, buttonNext, done]))\n",
    "    \n",
    "def on_buttonNext_clicked(b):\n",
    "    R = userid.value\n",
    "    images = dataset[R]\n",
    "    global V \n",
    "    #Only changes I for individual actions\n",
    "    V = V+1\n",
    "    if V < images_per_person:\n",
    "        with out: \n",
    "        #Do the things within \"out\" - which is the widget output\n",
    "            row = []\n",
    "        #The newlist that the answers will be appended to\n",
    "            for l in range(0,len(widget_labels)): #Creating widget answers by changing the individual widget values\n",
    "                row.extend([items[l].value]) #appending the widget answers \n",
    "                items[l].value = 0 #Resets the values \n",
    "            answers.append(row) #Puts in the new row answers into the overall answers\n",
    "            ID = (images_per_person*R)+V\n",
    "            results[ID] = row\n",
    "            clear_output() #Resets the widget numbers\n",
    "            imagshow(images[V]) #Displays a new image\n",
    "            if I % 5 == 0: #Saves answers\n",
    "                saveAnswers(b)\n",
    "    else:\n",
    "        finished_survey(b)\n",
    "\n",
    "def finished_survey(b):\n",
    "    widgetsBox.close()\n",
    "    buttonNext.close()\n",
    "    out.close()\n",
    "    done.close()\n",
    "    I_am_sure.close()\n",
    "    print(\"\"\"\n",
    "Thank you! Written below are the results from your survey. \n",
    "Please copy and paste these results and send them to Ophir at: \n",
    "ophirg543@gmail.com\n",
    "\n",
    "\"\"\") \n",
    "    print(results)\n",
    "\n",
    "\n",
    "\n",
    "        \n",
    "def saveAnswers(b):\n",
    "    image = images.reshape(10000, 3*32*32)\n",
    "    #Convert the images back into normal data\n",
    "    np.savez(outfile, answers=answers, images=image, labels=labels, label_names=label_names)\n",
    "    \n",
    "    #Save the new outfile(with new answers), new answers, new images, new labels, and new label names\n",
    "\n",
    "def sure(b):\n",
    "    display(I_am_sure)\n",
    "            "
   ]
  },
  {
   "cell_type": "markdown",
   "metadata": {},
   "source": [
    "\n",
    "# Image Survey\n",
    "\n",
    "### Instructions for the survey:\n",
    "\n",
    "There will be displayed an image in front of you. You must go through each category below the image and choose the probability that the image may be the category given. \n",
    "\n",
    "Give a rating on how sure you are about the image belonging to each category:\n",
    "\n",
    "4 = You can say with 100% certainty that the photo definitely belongs to this category <br>\n",
    "3 = It's probably this category, but there are details that can be interpreted as something else <br>\n",
    "2 = The image might be in this category, but definitely can be in another category too <br>\n",
    "1 = There's a small chance that the image is part of this category <br> \n",
    "0 = There is no way this image falls under this category and there are no details of this in the image <br>\n",
    "\n",
    "Try to choose at least 3 categories to be non-zero. \n",
    "\n",
    "You will recieve around 200 photos to look at and rate how much they look like each object. This should take around 2 hours. Once you are done rating the photos, the survey will naturally finish. If you do not do not have time to complete rating the photos, press the button \"done!\". After you press the button, press the button \"I am sure I am done\". DO NOT press these buttons if you are not finished, as you will have to restart your work. Let Ophir know if you have any questions. \n"
   ]
  },
  {
   "cell_type": "code",
   "execution_count": 15,
   "metadata": {},
   "outputs": [
    {
     "data": {
      "application/vnd.jupyter.widget-view+json": {
       "model_id": "2e421de9f49f49ac84c5537e66e57bb6",
       "version_major": 2,
       "version_minor": 0
      },
      "text/plain": [
       "VBox(children=(IntText(value=0, description='USER ID#:'), Button(description='Submit', style=ButtonStyle())))"
      ]
     },
     "metadata": {},
     "output_type": "display_data"
    },
    {
     "data": {
      "application/vnd.jupyter.widget-view+json": {
       "model_id": "",
       "version_major": 2,
       "version_minor": 0
      },
      "text/plain": [
       "Output()"
      ]
     },
     "metadata": {},
     "output_type": "display_data"
    },
    {
     "data": {
      "application/vnd.jupyter.widget-view+json": {
       "model_id": "1df23466d23e4a55b48175f1e06b6fbc",
       "version_major": 2,
       "version_minor": 0
      },
      "text/plain": [
       "VBox(children=(HBox(children=(VBox(children=(Label(value='airplane'), RadioButtons(index=4, layout=Layout(heig…"
      ]
     },
     "metadata": {},
     "output_type": "display_data"
    },
    {
     "data": {
      "application/vnd.jupyter.widget-view+json": {
       "model_id": "",
       "version_major": 2,
       "version_minor": 0
      },
      "text/plain": [
       "Button(description='I am sure I am done!', style=ButtonStyle())"
      ]
     },
     "metadata": {},
     "output_type": "display_data"
    },
    {
     "name": "stdout",
     "output_type": "stream",
     "text": [
      "\n",
      "Thank you! Written below are the results from your survey. \n",
      "Please copy and paste these results and send them to Ophir at: \n",
      "ophirg543@gmail.com\n",
      "\n",
      "\n",
      "{1: [0, 3, 0, 0, 0, 0, 0, 0, 0, 0], 2: [0, 0, 0, 0, 0, 0, 0, 0, 0, 0], 3: [0, 0, 0, 0, 0, 0, 0, 0, 0, 0], 4: [0, 0, 0, 0, 0, 0, 0, 0, 0, 0]}\n"
     ]
    }
   ],
   "source": [
    "widget_labels = ['airplane', 'car', 'bird', 'cat', 'deer', 'dog', 'frog', 'horse', 'ship', 'truck']\n",
    "confidence    = [4, 3, 2, 1, 0]\n",
    "\n",
    "\n",
    "\n",
    "items  = [widgets.RadioButtons(options=confidence, \n",
    "                layout=widgets.Layout(width='50px', height='150px'), value = 0) for l in widget_labels] \n",
    "#Actually displays the widgets and numbers\n",
    "buttonNext = Button(description='Next')\n",
    "widgetsBox = HBox([VBox([widgets.Label(widget_labels[l]), items[l]]) for l in range(0,len(widget_labels))])\n",
    "out        = widgets.Output()\n",
    "\n",
    "userid = widgets.IntText(\n",
    "    value=0,\n",
    "    description='USER ID#:',\n",
    "    disabled=False)\n",
    "\n",
    "done = widgets.Button(description= 'Done!')\n",
    "I_am_sure = widgets.Button(description = 'I am sure I am done!')\n",
    "\n",
    "\n",
    "I_am_sure.on_click(finished_survey)\n",
    "\n",
    "\n",
    "submit = widgets.Button(description=\"Submit\")\n",
    "\n",
    "display(VBox([userid,submit]))\n",
    "\n",
    "V = userid.value\n",
    "\n",
    "submit.on_click(user_id_images)\n",
    "buttonNext.on_click(on_buttonNext_clicked)\n",
    "done.on_click(sure)"
   ]
  },
  {
   "cell_type": "code",
   "execution_count": null,
   "metadata": {},
   "outputs": [],
   "source": []
  }
 ],
 "metadata": {
  "kernelspec": {
   "display_name": "Python 3",
   "language": "python",
   "name": "python3"
  },
  "language_info": {
   "codemirror_mode": {
    "name": "ipython",
    "version": 3
   },
   "file_extension": ".py",
   "mimetype": "text/x-python",
   "name": "python",
   "nbconvert_exporter": "python",
   "pygments_lexer": "ipython3",
   "version": "3.7.3"
  },
  "widgets": {
   "application/vnd.jupyter.widget-state+json": {
    "state": {},
    "version_major": 2,
    "version_minor": 0
   }
  }
 },
 "nbformat": 4,
 "nbformat_minor": 2
}
