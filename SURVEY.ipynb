{
 "cells": [
  {
   "cell_type": "code",
   "execution_count": 104,
   "metadata": {},
   "outputs": [],
   "source": [
    "import numpy             as np\n",
    "import matplotlib.pyplot as plt\n",
    "import smtplib\n",
    "import ipywidgets      as widgets\n",
    "from   ipywidgets      import Button, HBox, VBox\n",
    "from   IPython.display import display\n",
    "import os\n",
    "\n",
    "from   IPython.display import clear_output\n",
    "from IPython.display import display, HTML\n",
    "from IPython.display import FileLink, FileLinks\n",
    "from email.mime.multipart import MIMEMultipart \n",
    "from email.mime.text import MIMEText \n",
    "from email.mime.base import MIMEBase \n",
    "from email import encoders \n",
    "\n",
    "\n",
    "\n",
    "count = 0\n",
    "\n",
    "title = widgets.HTML(\n",
    "        value=\"<b>Image Survey</b>\",\n",
    "        placeholder='',\n",
    "        description='',\n",
    "    )\n",
    "\n",
    "instructions = widgets.HTML(\n",
    "        value=\"Instructions for survey:\",\n",
    "        placeholder='',\n",
    "        description='',\n",
    "    )\n",
    "\n",
    "i1 = widgets.HTML(\n",
    "        value=\"There will be displayed an image in front of you. You must go through each category below the image and choose the probability that the image may be the category given. \",\n",
    "        placeholder='',\n",
    "        description='',\n",
    "    )\n",
    "i2 = widgets.HTML(\n",
    "        value=\"Give a rating on how sure you are about the image belonging to each category:\",\n",
    "        placeholder='',\n",
    "        description='',\n",
    "    )\n",
    "r0 = widgets.HTML(\n",
    "        value=\"0 = There is no way this image falls under this category and there are no details of this in the image\",\n",
    "        placeholder='',\n",
    "        description='',\n",
    "    )\n",
    "r1 = widgets.HTML(\n",
    "        value=\"1 = There's a small chance that the image is part of this category\",\n",
    "        placeholder='',\n",
    "        description='',\n",
    "    )\n",
    "r2 = widgets.HTML(\n",
    "        value=\"2 = The image might be in this category, but definitely can be in another category too\",\n",
    "        placeholder='',\n",
    "        description='',\n",
    "    )\n",
    "r3 = widgets.HTML(\n",
    "        value=\"3 = It's probably this category, but there are details that can be interpreted as something else\",\n",
    "        placeholder='',\n",
    "        description='',\n",
    "    )\n",
    "r4 = widgets.HTML(\n",
    "        value=\"4 = You can say with 100% certainty that the photo definitely belongs to this category\",\n",
    "        placeholder='',\n",
    "        description='',\n",
    "    )\n",
    "r_0 = widgets.HTML(\n",
    "        value=\"0 = There is no way this image falls under this category and there are no details of this in the image\",\n",
    "        placeholder='',\n",
    "        description='',\n",
    "    )\n",
    "r_1 = widgets.HTML(\n",
    "        value=\"1 = There's a small chance that the image is part of this category\",\n",
    "        placeholder='',\n",
    "        description='',\n",
    "    )\n",
    "r_2 = widgets.HTML(\n",
    "        value=\"2 = The image might be in this category, but definitely can be in another category too\",\n",
    "        placeholder='',\n",
    "        description='',\n",
    "    )\n",
    "r_3 = widgets.HTML(\n",
    "        value=\"3 = It's probably this category, but there are details that can be interpreted as something else\",\n",
    "        placeholder='',\n",
    "        description='',\n",
    "    )\n",
    "r_4 = widgets.HTML(\n",
    "        value=\"4 = You can say with 100% certainty that the photo definitely belongs to this category\",\n",
    "        placeholder='',\n",
    "        description='',\n",
    "    )\n",
    "i3 = widgets.HTML(\n",
    "        value=\"Try to choose at least 3 categories to be non-zero.\",\n",
    "        placeholder='',\n",
    "        description='',\n",
    "    )\n",
    "i4 = widgets.HTML(\n",
    "        value=\"You will receive around 200 photos to look at and rate how much they look like each object. This should take around an hour. Once you are done rating the photos, the survey will naturally finish. If you do not do not have time to complete rating the photos, press the button done!. DO NOT press done! if you are not finished, as you will have to restart your work. Once you are done, you must email Ophir the results. Let Ophir know if you have any questions.\",\n",
    "        placeholder='',\n",
    "        description='',\n",
    "    )\n",
    "\n",
    "\n",
    "#Importing all files needed for this notebook\n",
    "\n",
    "\n",
    "filename   = 'data_batch_1'\n",
    "filename2 = 'Batch Names-Copy1'\n",
    "\n",
    "def unpickle(file):\n",
    "    import pickle\n",
    "    with open(file, 'rb') as fo:\n",
    "        dict = pickle.load(fo, encoding='bytes')\n",
    "    return dict\n",
    "\n",
    "file = unpickle(filename)\n",
    "file2 = unpickle(filename2)\n",
    "\n",
    "images = file[b'data'] \n",
    "labels = file[b'labels']\n",
    "label_names = file2[b'label_names']\n",
    "\n",
    "#loading all file data onto notebook\n",
    "\n",
    "images = images.reshape(len(labels), 3, 32, 32)\n",
    "\n",
    "def imagshow(img):\n",
    "    plt.imshow(np.transpose(img, (1, 2, 0))) #flip the grid from side to normal\n",
    "    plt.show()\n",
    "# plotting and showing the images\n",
    "\n",
    "\n",
    "dataset = {}\n",
    "total = len(images)\n",
    "image_ids = np.arange(total)\n",
    "images_per_person = 200\n",
    "people = int(total/images_per_person)\n",
    "for I in range(people):\n",
    "    ind1 = I*images_per_person\n",
    "    ind2 = (I+1)*images_per_person\n",
    "    dataset[I] = images[ind1:ind2,:,:,:]\n",
    "results= {}    \n",
    "I = 0\n",
    "answers = []\n",
    "datalen = len(labels)\n",
    "\n",
    "#arranging all the data to be used    \n",
    "\n",
    "def user(b):\n",
    "    display(widgets.VBox([name, userid, submit]))\n",
    "    instructions.close()\n",
    "    title.close()\n",
    "    i1.close()\n",
    "    r0.close()\n",
    "    r1.close()\n",
    "    r2.close()\n",
    "    r3.close()\n",
    "    r4.close()\n",
    "    i2.close()\n",
    "    i3.close()\n",
    "    i4.close()\n",
    "    ok.close()\n",
    "\n",
    "def user_id_images(b):\n",
    "    display(r_4)\n",
    "    display(r_3)\n",
    "    display(r_2)\n",
    "    display(r_1)\n",
    "    display(r_0)\n",
    "    global count \n",
    "    try: \n",
    "        R = userid.value\n",
    "#       images = dataset[R]\n",
    "        invalid.close()\n",
    "        with out:\n",
    "            imagshow(images[R*images_per_person])\n",
    "        display(out)\n",
    "        display(widgets.VBox([widgetsBox, buttonNext]))\n",
    "        display(widgets.VBox([done]))\n",
    "        userid.close()\n",
    "        submit.close()\n",
    "        name.close()\n",
    "    except:\n",
    "        if count == 0:\n",
    "            display(invalid)\n",
    "            count+=1\n",
    "        else:\n",
    "            count+=1\n",
    "            \n",
    "      \n",
    "    \n",
    "    \n",
    "def on_buttonNext_clicked(b):\n",
    "    R = userid.value\n",
    "    V1 = userid.value\n",
    "    images = dataset[R]\n",
    "    global V\n",
    "    #Only changes I for individual actions\n",
    "    V = V+1\n",
    "    if V < images_per_person:\n",
    "        with out: \n",
    "        #Do the things within \"out\" - which is the widget output\n",
    "            row = []\n",
    "        #The newlist that the answers will be appended to\n",
    "            for l in range(0,len(widget_labels)): #Creating widget answers by changing the individual widget values\n",
    "                row.extend([items[l].value]) #appending the widget answers \n",
    "                items[l].value = 0 #Resets the values\n",
    "            answers.append(row) #Puts in the new row answers into the overall answers\n",
    "            ID = (images_per_person*R)+V\n",
    "            results[V-1] = ID-1, row, labels[ID-1]\n",
    "            clear_output() #Resets the widget numbers\n",
    "            imagshow(images[V]) #Displays a new image \n",
    "            images_done = widgets.HTML(\n",
    "                value= str(len(results)) + \"/\" + str(images_per_person),\n",
    "                placeholder='',\n",
    "                description='',\n",
    "            )\n",
    "            display(images_done)\n",
    "    else:\n",
    "        with out: \n",
    "        #Do the things within \"out\" - which is the widget output\n",
    "            row = []\n",
    "        #The newlist that the answers will be appended to\n",
    "            for l in range(0,len(widget_labels)): #Creating widget answers by changing the individual widget values\n",
    "                row.extend([items[l].value]) #appending the widget answers \n",
    "                items[l].value = 0 #Resets the values\n",
    "            answers.append(row) #Puts in the new row answers into the overall answers\n",
    "            ID = (images_per_person*R)+V\n",
    "            results[V-1] = ID-1, row, labels[ID-1]\n",
    "        finished_survey(b)\n",
    "\n",
    "        \n",
    "#Moving onto the next question\n",
    "\n",
    "\n",
    "\n",
    "dataresults = 'dataresults.npz'\n",
    "def finished_survey(b):\n",
    "    r_4.close()\n",
    "    r_3.close()\n",
    "    r_2.close()\n",
    "    r_1.close()\n",
    "    r_0.close()\n",
    "    N = name.value\n",
    "    V1 = userid.value\n",
    "    ID1= (images_per_person*V1)\n",
    "    ID2 = len(results)+ID1-1\n",
    "    widgetsBox.close()\n",
    "    buttonNext.close()\n",
    "    out.close()\n",
    "    done.close()\n",
    "    print(\"\"\"Thank you! Please copy and paste the following results and send to cifar10surveyanswers@gmail.com\n",
    "    \n",
    "    \n",
    "    To: cifar10surveyanswers@gmail.com\n",
    "    \n",
    "    Subject: {N}({V1}):{ID1}-{ID2}\n",
    "    \n",
    "    Body: {results}\n",
    "    \n",
    "    \"\"\".format(N=str(N),V1=str(V1),ID1=str(ID1),ID2=str(ID2), results=str(results))) \n",
    "\n",
    "\n"
   ]
  },
  {
   "cell_type": "code",
   "execution_count": 105,
   "metadata": {},
   "outputs": [],
   "source": [
    "\n",
    "# # Image Survey\n",
    "\n",
    "# ### Instructions for the survey:\n",
    "\n",
    "# There will be displayed an image in front of you. You must go through each category below the image and choose the probability that the image may be the category given. \n",
    "\n",
    "# Give a rating on how sure you are about the image belonging to each category:\n",
    "\n",
    "# 4 = You can say with 100% certainty that the photo definitely belongs to this category <br>\n",
    "# 3 = It's probably this category, but there are details that can be interpreted as something else <br>\n",
    "# 2 = The image might be in this category, but definitely can be in another category too <br>\n",
    "# 1 = There's a small chance that the image is part of this category <br> \n",
    "# 0 = There is no way this image falls under this category and there are no details of this in the image <br>\n",
    "\n",
    "# Try to choose at least 3 categories to be non-zero. \n",
    "\n",
    "# You will receive around 200 photos to look at and rate how much they look like each object. This should take around an hour. Once you are done rating the photos, the survey will naturally finish. If you do not do not have time to complete rating the photos, press the button \"done!\". DO NOT press \"done\" if you are not finished, as you will have to restart your work. Once you are done, you must email Ophir the results. Let Ophir know if you have any questions. \n"
   ]
  },
  {
   "cell_type": "code",
   "execution_count": 106,
   "metadata": {},
   "outputs": [
    {
     "data": {
      "application/vnd.jupyter.widget-view+json": {
       "model_id": "",
       "version_major": 2,
       "version_minor": 0
      },
      "text/plain": [
       "HTML(value='<b>Image Survey</b>', placeholder='')"
      ]
     },
     "metadata": {},
     "output_type": "display_data"
    },
    {
     "data": {
      "application/vnd.jupyter.widget-view+json": {
       "model_id": "",
       "version_major": 2,
       "version_minor": 0
      },
      "text/plain": [
       "HTML(value='Instructions for survey:', placeholder='')"
      ]
     },
     "metadata": {},
     "output_type": "display_data"
    },
    {
     "data": {
      "application/vnd.jupyter.widget-view+json": {
       "model_id": "",
       "version_major": 2,
       "version_minor": 0
      },
      "text/plain": [
       "HTML(value='There will be displayed an image in front of you. You must go through each category below the imag…"
      ]
     },
     "metadata": {},
     "output_type": "display_data"
    },
    {
     "data": {
      "application/vnd.jupyter.widget-view+json": {
       "model_id": "",
       "version_major": 2,
       "version_minor": 0
      },
      "text/plain": [
       "HTML(value='Give a rating on how sure you are about the image belonging to each category:', placeholder='')"
      ]
     },
     "metadata": {},
     "output_type": "display_data"
    },
    {
     "data": {
      "application/vnd.jupyter.widget-view+json": {
       "model_id": "",
       "version_major": 2,
       "version_minor": 0
      },
      "text/plain": [
       "HTML(value='4 = You can say with 100% certainty that the photo definitely belongs to this category', placehold…"
      ]
     },
     "metadata": {},
     "output_type": "display_data"
    },
    {
     "data": {
      "application/vnd.jupyter.widget-view+json": {
       "model_id": "",
       "version_major": 2,
       "version_minor": 0
      },
      "text/plain": [
       "HTML(value=\"3 = It's probably this category, but there are details that can be interpreted as something else\",…"
      ]
     },
     "metadata": {},
     "output_type": "display_data"
    },
    {
     "data": {
      "application/vnd.jupyter.widget-view+json": {
       "model_id": "",
       "version_major": 2,
       "version_minor": 0
      },
      "text/plain": [
       "HTML(value='2 = The image might be in this category, but definitely can be in another category too', placehold…"
      ]
     },
     "metadata": {},
     "output_type": "display_data"
    },
    {
     "data": {
      "application/vnd.jupyter.widget-view+json": {
       "model_id": "",
       "version_major": 2,
       "version_minor": 0
      },
      "text/plain": [
       "HTML(value=\"1 = There's a small chance that the image is part of this category\", placeholder='')"
      ]
     },
     "metadata": {},
     "output_type": "display_data"
    },
    {
     "data": {
      "application/vnd.jupyter.widget-view+json": {
       "model_id": "",
       "version_major": 2,
       "version_minor": 0
      },
      "text/plain": [
       "HTML(value='0 = There is no way this image falls under this category and there are no details of this in the i…"
      ]
     },
     "metadata": {},
     "output_type": "display_data"
    },
    {
     "data": {
      "application/vnd.jupyter.widget-view+json": {
       "model_id": "",
       "version_major": 2,
       "version_minor": 0
      },
      "text/plain": [
       "HTML(value='Try to choose at least 3 categories to be non-zero.', placeholder='')"
      ]
     },
     "metadata": {},
     "output_type": "display_data"
    },
    {
     "data": {
      "application/vnd.jupyter.widget-view+json": {
       "model_id": "",
       "version_major": 2,
       "version_minor": 0
      },
      "text/plain": [
       "HTML(value='You will receive around 200 photos to look at and rate how much they look like each object. This s…"
      ]
     },
     "metadata": {},
     "output_type": "display_data"
    },
    {
     "data": {
      "application/vnd.jupyter.widget-view+json": {
       "model_id": "",
       "version_major": 2,
       "version_minor": 0
      },
      "text/plain": [
       "Button(description='OK', style=ButtonStyle())"
      ]
     },
     "metadata": {},
     "output_type": "display_data"
    },
    {
     "data": {
      "application/vnd.jupyter.widget-view+json": {
       "model_id": "4d2b002e4ef14de4ae85ed8b50360538",
       "version_major": 2,
       "version_minor": 0
      },
      "text/plain": [
       "VBox(children=(Text(value='', description='Full Name:', placeholder=' '), IntText(value=0, description='USER I…"
      ]
     },
     "metadata": {},
     "output_type": "display_data"
    },
    {
     "data": {
      "application/vnd.jupyter.widget-view+json": {
       "model_id": "",
       "version_major": 2,
       "version_minor": 0
      },
      "text/plain": [
       "HTML(value='4 = You can say with 100% certainty that the photo definitely belongs to this category', placehold…"
      ]
     },
     "metadata": {},
     "output_type": "display_data"
    },
    {
     "data": {
      "application/vnd.jupyter.widget-view+json": {
       "model_id": "",
       "version_major": 2,
       "version_minor": 0
      },
      "text/plain": [
       "HTML(value=\"3 = It's probably this category, but there are details that can be interpreted as something else\",…"
      ]
     },
     "metadata": {},
     "output_type": "display_data"
    },
    {
     "data": {
      "application/vnd.jupyter.widget-view+json": {
       "model_id": "",
       "version_major": 2,
       "version_minor": 0
      },
      "text/plain": [
       "HTML(value='2 = The image might be in this category, but definitely can be in another category too', placehold…"
      ]
     },
     "metadata": {},
     "output_type": "display_data"
    },
    {
     "data": {
      "application/vnd.jupyter.widget-view+json": {
       "model_id": "",
       "version_major": 2,
       "version_minor": 0
      },
      "text/plain": [
       "HTML(value=\"1 = There's a small chance that the image is part of this category\", placeholder='')"
      ]
     },
     "metadata": {},
     "output_type": "display_data"
    },
    {
     "data": {
      "application/vnd.jupyter.widget-view+json": {
       "model_id": "",
       "version_major": 2,
       "version_minor": 0
      },
      "text/plain": [
       "HTML(value='0 = There is no way this image falls under this category and there are no details of this in the i…"
      ]
     },
     "metadata": {},
     "output_type": "display_data"
    },
    {
     "data": {
      "application/vnd.jupyter.widget-view+json": {
       "model_id": "",
       "version_major": 2,
       "version_minor": 0
      },
      "text/plain": [
       "Output()"
      ]
     },
     "metadata": {},
     "output_type": "display_data"
    },
    {
     "data": {
      "application/vnd.jupyter.widget-view+json": {
       "model_id": "728312d0116e4477a33c1b30904f3c6d",
       "version_major": 2,
       "version_minor": 0
      },
      "text/plain": [
       "VBox(children=(HBox(children=(VBox(children=(Label(value='airplane'), RadioButtons(index=4, layout=Layout(heig…"
      ]
     },
     "metadata": {},
     "output_type": "display_data"
    },
    {
     "data": {
      "application/vnd.jupyter.widget-view+json": {
       "model_id": "c41933e014a64886a094dd7f84f77039",
       "version_major": 2,
       "version_minor": 0
      },
      "text/plain": [
       "VBox(children=(Button(description='Done!', style=ButtonStyle()),))"
      ]
     },
     "metadata": {},
     "output_type": "display_data"
    },
    {
     "name": "stdout",
     "output_type": "stream",
     "text": [
      "Thank you! Please copy and paste the following results and send to cifar10surveyanswers@gmail.com\n",
      "    \n",
      "    \n",
      "    To: cifar10surveyanswers@gmail.com\n",
      "    \n",
      "    Subject: Ophir(0):0-1\n",
      "    \n",
      "    Body: {0: (0, [0, 0, 0, 0, 0, 0, 4, 0, 0, 0], 6), 1: (1, [0, 0, 0, 0, 0, 0, 0, 0, 0, 4], 9)}\n",
      "    \n",
      "    \n"
     ]
    }
   ],
   "source": [
    "widget_labels = ['airplane', 'car', 'bird', 'cat', 'deer', 'dog', 'frog', 'horse', 'ship', 'truck']\n",
    "confidence    = [4, 3, 2, 1, 0]\n",
    "items  = [widgets.RadioButtons(options=confidence, \n",
    "                layout=widgets.Layout(width='50px', height='150px'), value = 0) for l in widget_labels] \n",
    "widgetsBox = widgets.HBox([widgets.VBox([widgets.Label(widget_labels[l]), items[l]]) for l in range(0,len(widget_labels))])\n",
    "out        = widgets.Output()\n",
    "#Base of files \n",
    "\n",
    "userid = widgets.IntText(\n",
    "    value= 0,\n",
    "    description='USER ID#:',\n",
    "    disabled=False)\n",
    "\n",
    "invalid = widgets.HTML(\n",
    "    value=\"Invalid USER ID\",\n",
    "    placeholder='',\n",
    "    description='',\n",
    ")\n",
    "\n",
    "ok = widgets.Button(description='OK')\n",
    "\n",
    "name = widgets.Text(\n",
    "    value='',\n",
    "    placeholder=' ',\n",
    "    description='Full Name:',\n",
    "    disabled=False\n",
    ")\n",
    "\n",
    "\n",
    "display(title)\n",
    "display(instructions)\n",
    "display(i1)\n",
    "display(i2)\n",
    "display(r4)\n",
    "display(r3)\n",
    "display(r2)\n",
    "display(r1)\n",
    "display(r0)\n",
    "display(i3)\n",
    "display(i4)\n",
    "display(ok)\n",
    "\n",
    "ok.on_click(user)\n",
    "\n",
    "#Interactive widgets\n",
    "buttonNext = widgets.Button(description='Next')\n",
    "submit = widgets.Button(description=\"Submit\")\n",
    "back = widgets.Button(description=\"Back\")\n",
    "done = widgets.Button(description= 'Done!')\n",
    "#buttons\n",
    "\n",
    "buttonNext.on_click(on_buttonNext_clicked)\n",
    "done.on_click(finished_survey)\n",
    "    \n",
    "submit.on_click(user_id_images)\n",
    "\n",
    "#Displaying the original userid box\n",
    "\n",
    "\n",
    "V = userid.value\n",
    "ID1= (images_per_person*V)"
   ]
  },
  {
   "cell_type": "code",
   "execution_count": null,
   "metadata": {},
   "outputs": [],
   "source": []
  },
  {
   "cell_type": "code",
   "execution_count": 5,
   "metadata": {},
   "outputs": [],
   "source": [
    "# import numpy as np\n",
    "# def softmax(v,theta=.1):\n",
    "#     v = np.float32(v)\n",
    "#     t = np.exp(theta*v)\n",
    "#     t = t/np.sum(t)\n",
    "#     return t\n",
    "    "
   ]
  },
  {
   "cell_type": "code",
   "execution_count": 1,
   "metadata": {},
   "outputs": [],
   "source": [
    "# r = {1: (6401, [0, 1, 0, 0, 3, 0, 0, 2, 0, 0], 0), 2: (6402, [0, 0, 0, 0, 2, 2, 0, 3, 0, 0], 7), 3: (6403, [0, 0, 0, 3, 0, 1, 0, 1, 0, 0], 3), 4: (6404, [1, 0, 0, 0, 0, 0, 0, 0, 4, 2], 8), 5: (6405, [0, 0, 1, 3, 0, 2, 0, 0, 0, 0], 3), 6: (6406, [0, 0, 0, 4, 0, 1, 0, 0, 0, 0], 3), 7: (6407, [0, 0, 0, 2, 1, 1, 3, 0, 0, 0], 6), 8: (6408, [2, 1, 0, 0, 0, 0, 0, 0, 3, 0], 8), 9: (6409, [0, 1, 3, 1, 0, 0, 0, 0, 0, 0], 2), 10: (6410, [0, 0, 0, 0, 1, 0, 0, 4, 0, 0], 7), 11: (6411, [0, 0, 0, 0, 3, 2, 0, 1, 0, 0], 4), 12: (6412, [0, 4, 0, 0, 0, 0, 0, 0, 0, 1], 1), 13: (6413, [0, 0, 4, 1, 0, 0, 1, 0, 0, 0], 2), 14: (6414, [1, 1, 0, 0, 0, 0, 0, 0, 0, 4], 9), 15: (6415, [0, 0, 4, 1, 0, 0, 2, 0, 0, 0], 2), 16: (6416, [0, 0, 0, 0, 3, 0, 0, 2, 0, 0], 4), 17: (6417, [0, 0, 1, 1, 0, 0, 4, 0, 0, 0], 6), 18: (6418, [0, 0, 0, 2, 0, 1, 3, 0, 0, 0], 6), 19: (6419, [1, 1, 0, 0, 0, 0, 0, 0, 4, 2], 8), 20: (6420, [0, 0, 0, 3, 0, 3, 0, 0, 0, 0], 5), 21: (6421, [0, 4, 0, 0, 0, 0, 0, 0, 1, 2], 1), 22: (6422, [0, 0, 0, 0, 4, 1, 0, 2, 0, 0], 4), 23: (6423, [0, 0, 0, 4, 0, 2, 1, 0, 0, 0], 3), 24: (6424, [0, 0, 0, 0, 2, 2, 0, 2, 0, 0], 7), 25: (6425, [0, 0, 0, 3, 0, 3, 0, 1, 0, 0], 5), 26: (6426, [2, 2, 0, 2, 0, 2, 0, 0, 2, 2], 0), 27: (6427, [1, 0, 0, 0, 0, 0, 0, 0, 1, 4], 9), 28: (6428, [1, 0, 4, 0, 0, 0, 0, 0, 0, 1], 2), 29: (6429, [4, 0, 0, 0, 0, 0, 0, 0, 1, 1], 0), 30: (6430, [0, 4, 0, 0, 0, 0, 0, 0, 1, 1], 1), 31: (6431, [0, 0, 2, 2, 2, 2, 0, 2, 0, 0], 3), 32: (6432, [0, 2, 0, 0, 0, 0, 0, 0, 2, 3], 9), 33: (6433, [0, 0, 0, 1, 4, 1, 0, 2, 0, 0], 4), 34: (6434, [0, 0, 0, 4, 1, 1, 0, 0, 0, 0], 3), 35: (6435, [0, 4, 0, 0, 0, 0, 0, 0, 1, 1], 1), 36: (6436, [1, 2, 0, 0, 0, 0, 0, 0, 4, 0], 8), 37: (6437, [0, 0, 0, 2, 0, 2, 0, 0, 0, 0], 5), 38: (6438, [0, 0, 0, 0, 3, 0, 0, 3, 0, 0], 4), 39: (6439, [0, 1, 0, 0, 0, 0, 0, 0, 1, 4], 9), 40: (6440, [0, 1, 0, 1, 0, 0, 0, 0, 1, 4], 9), 41: (6441, [4, 1, 0, 0, 0, 0, 0, 0, 0, 2], 0), 42: (6442, [0, 0, 0, 0, 2, 0, 0, 3, 0, 0], 7), 43: (6443, [0, 0, 0, 1, 0, 1, 4, 0, 0, 0], 6), 44: (6444, [0, 0, 0, 2, 1, 3, 0, 0, 0, 0], 5), 45: (6445, [0, 0, 0, 2, 0, 4, 0, 0, 0, 0], 5), 46: (6446, [0, 0, 4, 1, 0, 1, 0, 0, 0, 0], 2), 47: (6447, [0, 4, 0, 0, 0, 0, 0, 0, 1, 2], 1), 48: (6448, [0, 0, 1, 1, 1, 1, 3, 0, 0, 0], 6), 49: (6449, [0, 0, 4, 0, 0, 0, 2, 0, 0, 0], 2), 50: (6450, [0, 0, 0, 0, 0, 0, 0, 4, 0, 0], 7), 51: (6451, [0, 0, 0, 2, 3, 2, 0, 2, 0, 0], 4), 52: (6452, [0, 0, 2, 3, 0, 3, 0, 0, 0, 0], 6), 53: (6453, [0, 0, 3, 2, 0, 2, 0, 0, 0, 0], 4), 54: (6454, [0, 4, 0, 0, 0, 0, 0, 0, 0, 2], 1), 55: (6455, [0, 0, 0, 2, 2, 2, 0, 2, 0, 0], 6), 56: (6456, [0, 0, 0, 0, 1, 4, 0, 1, 0, 0], 5), 57: (6457, [0, 4, 0, 0, 0, 0, 0, 0, 1, 1], 1), 58: (6458, [0, 3, 0, 0, 0, 0, 0, 0, 1, 3], 9), 59: (6459, [0, 0, 0, 3, 3, 3, 0, 1, 0, 0], 3), 60: (6460, [0, 1, 0, 0, 0, 0, 0, 0, 3, 1], 8), 61: (6461, [0, 0, 0, 0, 2, 0, 0, 4, 0, 0], 7), 62: (6462, [0, 0, 4, 0, 0, 0, 1, 0, 0, 0], 2), 63: (6463, [0, 0, 0, 4, 0, 1, 0, 0, 0, 0], 3), 64: (6464, [0, 0, 0, 2, 0, 1, 4, 0, 0, 0], 6), 65: (6465, [0, 3, 0, 0, 0, 0, 0, 0, 0, 2], 1), 66: (6466, [0, 0, 0, 0, 3, 2, 0, 2, 0, 0], 4), 67: (6467, [0, 0, 0, 4, 0, 1, 0, 0, 0, 0], 3), 68: (6468, [0, 0, 4, 0, 0, 0, 1, 0, 0, 0], 2), 69: (6469, [0, 1, 0, 0, 0, 0, 0, 0, 3, 2], 8), 70: (6470, [0, 0, 4, 1, 0, 0, 0, 1, 0, 0], 2), 71: (6471, [0, 0, 0, 0, 0, 0, 0, 0, 4, 2], 8), 72: (6472, [0, 0, 0, 0, 0, 0, 4, 0, 0, 0], 6), 73: (6473, [0, 0, 0, 0, 3, 2, 0, 3, 0, 0], 4), 74: (6474, [0, 0, 1, 1, 0, 1, 4, 0, 0, 0], 6), 75: (6475, [0, 2, 0, 0, 0, 0, 0, 0, 4, 2], 8), 76: (6476, [0, 0, 0, 0, 4, 0, 0, 1, 0, 0], 4), 77: (6477, [0, 0, 0, 3, 1, 3, 0, 0, 0, 0], 5), 78: (6478, [0, 0, 4, 0, 0, 0, 0, 0, 0, 0], 2), 79: (6479, [0, 0, 0, 0, 0, 0, 0, 0, 0, 4], 8), 80: (6480, [4, 0, 0, 0, 0, 0, 0, 0, 0, 0], 0), 81: (6481, [0, 2, 0, 0, 0, 0, 0, 0, 1, 3], 9), 82: (6482, [0, 0, 0, 0, 1, 0, 0, 4, 0, 0], 7), 83: (6483, [0, 0, 0, 4, 1, 1, 0, 0, 0, 0], 3), 84: (6484, [0, 0, 0, 3, 0, 3, 0, 0, 0, 0], 5), 85: (6485, [0, 0, 4, 0, 0, 0, 0, 1, 0, 0], 2), 86: (6486, [0, 0, 0, 0, 3, 0, 0, 2, 0, 0], 4), 87: (6487, [0, 0, 0, 0, 0, 0, 4, 0, 0, 0], 6), 88: (6488, [0, 0, 0, 0, 3, 0, 0, 3, 0, 0], 7), 89: (6489, [0, 0, 4, 0, 0, 0, 0, 0, 0, 0], 2), 90: (6490, [0, 2, 0, 0, 0, 0, 0, 0, 0, 2], 1), 91: (6491, [0, 2, 0, 0, 1, 0, 0, 1, 0, 0], 3), 92: (6492, [0, 0, 0, 4, 0, 1, 1, 0, 0, 0], 3), 93: (6493, [0, 0, 0, 4, 0, 0, 0, 0, 0, 0], 3), 94: (6494, [2, 0, 0, 0, 0, 0, 4, 0, 0, 0], 3), 95: (6495, [0, 4, 0, 0, 0, 0, 0, 0, 0, 1], 1), 96: (6496, [0, 4, 0, 0, 0, 0, 0, 0, 0, 0], 1), 97: (6497, [0, 0, 0, 4, 0, 0, 0, 0, 0, 0], 3), 98: (6498, [0, 0, 0, 0, 2, 0, 0, 4, 0, 0], 7), 99: (6499, [0, 0, 0, 0, 3, 0, 0, 2, 0, 0], 4), 100: (6500, [0, 0, 4, 0, 0, 0, 0, 0, 0, 0], 2), 101: (6501, [0, 0, 0, 0, 0, 0, 4, 0, 0, 0], 6), 102: (6502, [0, 0, 0, 0, 0, 0, 0, 0, 4, 0], 8), 103: (6503, [0, 0, 4, 0, 0, 0, 0, 0, 0, 0], 2), 104: (6504, [4, 1, 0, 0, 0, 0, 0, 0, 0, 1], 0), 105: (6505, [3, 0, 3, 0, 0, 0, 0, 0, 2, 0], 0), 106: (6506, [0, 0, 0, 0, 4, 0, 2, 3, 0, 0], 4), 107: (6507, [0, 0, 0, 0, 0, 0, 4, 0, 0, 0], 6), 108: (6508, [0, 0, 0, 2, 0, 1, 0, 1, 0, 0], 3), 109: (6509, [1, 0, 0, 0, 0, 0, 0, 0, 4, 1], 8), 110: (6510, [0, 0, 0, 2, 2, 2, 1, 0, 0, 0], 4), 111: (6511, [0, 0, 0, 2, 2, 2, 3, 0, 0, 0], 6), 112: (6512, [0, 0, 1, 3, 0, 1, 0, 0, 0, 0], 3), 113: (6513, [4, 0, 0, 0, 0, 0, 0, 0, 0, 0], 0), 114: (6514, [0, 0, 0, 0, 2, 0, 0, 2, 0, 0], 7), 115: (6515, [0, 0, 0, 0, 0, 0, 0, 0, 4, 0], 8), 116: (6516, [0, 4, 0, 0, 0, 0, 0, 0, 1, 1], 1), 117: (6517, [2, 1, 0, 0, 0, 0, 0, 0, 2, 4], 9), 118: (6518, [0, 0, 0, 0, 0, 0, 4, 0, 0, 0], 6), 119: (6519, [4, 1, 0, 0, 0, 0, 0, 0, 2, 1], 0), 120: (6520, [0, 0, 0, 2, 0, 4, 0, 0, 0, 0], 5), 121: (6521, [0, 0, 3, 0, 2, 2, 0, 1, 0, 0], 2), 122: (6522, [0, 0, 0, 1, 0, 1, 4, 0, 0, 0], 6), 123: (6523, [0, 0, 1, 0, 2, 0, 0, 4, 0, 0], 7), 124: (6524, [0, 0, 0, 1, 1, 1, 4, 0, 0, 0], 6), 125: (6525, [0, 0, 1, 0, 4, 1, 0, 1, 0, 0], 4), 126: (6526, [1, 2, 0, 0, 0, 0, 0, 0, 0, 4], 9), 127: (6527, [0, 0, 0, 0, 0, 0, 4, 0, 0, 0], 6), 128: (6528, [0, 0, 0, 0, 3, 1, 0, 1, 0, 0], 4), 129: (6529, [0, 0, 0, 0, 0, 0, 0, 4, 0, 0], 7), 130: (6530, [2, 1, 0, 0, 0, 0, 0, 0, 3, 2], 8), 131: (6531, [0, 0, 0, 2, 0, 3, 0, 0, 0, 0], 5), 132: (6532, [1, 1, 0, 0, 0, 0, 0, 0, 0, 4], 9), 133: (6533, [0, 0, 1, 1, 3, 0, 0, 2, 0, 0], 4), 134: (6534, [0, 0, 0, 2, 0, 4, 0, 0, 0, 0], 5), 135: (6535, [0, 4, 0, 0, 0, 0, 0, 0, 0, 0], 1), 136: (6536, [0, 0, 0, 0, 3, 1, 0, 2, 0, 0], 4), 137: (6537, [0, 0, 0, 0, 0, 0, 4, 0, 0, 0], 6), 138: (6538, [0, 0, 0, 0, 0, 0, 4, 0, 0, 0], 6), 139: (6539, [0, 0, 0, 0, 2, 2, 0, 2, 0, 0], 7), 140: (6540, [0, 1, 0, 0, 0, 0, 0, 0, 0, 4], 9), 141: (6541, [0, 0, 0, 2, 2, 2, 0, 2, 0, 0], 3), 142: (6542, [0, 0, 0, 0, 0, 0, 0, 0, 4, 1], 8), 143: (6543, [0, 0, 4, 0, 0, 0, 0, 0, 0, 0], 2), 144: (6544, [4, 0, 0, 0, 0, 0, 0, 0, 2, 0], 0), 145: (6545, [0, 2, 0, 0, 0, 0, 0, 0, 0, 4], 1), 146: (6546, [0, 0, 1, 1, 0, 0, 4, 0, 0, 0], 6), 147: (6547, [0, 2, 0, 0, 0, 0, 0, 0, 0, 4], 9), 148: (6548, [0, 0, 4, 0, 0, 0, 1, 0, 0, 0], 2), 149: (6549, [0, 0, 0, 1, 0, 1, 4, 0, 0, 0], 6), 150: (6550, [0, 0, 4, 0, 0, 0, 0, 0, 0, 0], 2), 151: (6551, [0, 4, 0, 0, 0, 0, 0, 0, 0, 0], 1), 152: (6552, [0, 0, 1, 1, 0, 1, 3, 0, 0, 0], 6), 153: (6553, [0, 0, 0, 0, 3, 1, 0, 3, 0, 0], 7), 154: (6554, [4, 0, 1, 0, 0, 0, 0, 0, 1, 0], 0), 155: (6555, [0, 0, 1, 1, 1, 1, 4, 0, 0, 0], 6), 156: (6556, [0, 0, 1, 2, 1, 2, 0, 0, 0, 0], 3), 157: (6557, [0, 0, 0, 4, 0, 0, 0, 0, 1, 0], 3), 158: (6558, [0, 0, 1, 1, 0, 3, 0, 2, 0, 0], 3), 159: (6559, [0, 0, 4, 0, 0, 0, 0, 0, 0, 0], 2), 160: (6560, [0, 3, 0, 0, 0, 0, 0, 0, 0, 2], 1), 161: (6561, [0, 0, 0, 0, 3, 1, 0, 2, 0, 0], 4), 162: (6562, [0, 0, 0, 1, 0, 4, 0, 0, 0, 0], 5), 163: (6563, [0, 0, 0, 0, 2, 1, 0, 1, 0, 0], 4), 164: (6564, [4, 0, 3, 0, 0, 0, 0, 0, 0, 0], 0), 165: (6565, [0, 0, 0, 0, 2, 1, 0, 4, 0, 0], 7), 166: (6566, [0, 1, 0, 0, 0, 0, 0, 0, 4, 2], 8), 167: (6567, [0, 0, 0, 2, 0, 2, 2, 0, 0, 0], 6), 168: (6568, [0, 0, 0, 4, 0, 0, 0, 0, 0, 0], 3), 169: (6569, [0, 0, 0, 0, 2, 0, 0, 3, 0, 0], 7), 170: (6570, [0, 0, 0, 0, 3, 0, 0, 1, 0, 0], 4), 171: (6571, [4, 0, 2, 0, 0, 0, 0, 0, 2, 0], 0), 172: (6572, [0, 0, 0, 0, 0, 0, 0, 0, 0, 4], 9), 173: (6573, [0, 1, 0, 0, 0, 0, 4, 0, 0, 0], 6), 174: (6574, [0, 0, 0, 0, 1, 0, 0, 4, 0, 0], 7), 175: (6575, [0, 0, 0, 4, 0, 0, 0, 0, 0, 0], 3), 176: (6576, [0, 0, 0, 1, 0, 3, 0, 1, 0, 0], 5), 177: (6577, [3, 4, 0, 0, 0, 0, 0, 0, 2, 2], 8), 178: (6578, [0, 0, 0, 1, 0, 3, 0, 1, 0, 0], 5), 179: (6579, [0, 0, 0, 1, 0, 0, 4, 0, 0, 0], 6), 180: (6580, [0, 1, 0, 0, 0, 0, 0, 0, 0, 4], 9), 181: (6581, [0, 0, 0, 2, 1, 3, 0, 1, 0, 0], 5), 182: (6582, [0, 0, 0, 0, 0, 0, 4, 0, 0, 0], 6), 183: (6583, [0, 0, 0, 0, 0, 0, 4, 0, 0, 0], 6), 184: (6584, [0, 0, 4, 0, 0, 2, 0, 1, 0, 0], 2), 185: (6585, [0, 0, 0, 3, 1, 2, 0, 0, 0, 0], 3), 186: (6586, [0, 0, 0, 4, 1, 1, 0, 0, 0, 0], 3), 187: (6587, [0, 0, 0, 2, 1, 1, 3, 0, 0, 0], 4), 188: (6588, [0, 1, 0, 0, 0, 0, 0, 0, 2, 4], 9), 189: (6589, [0, 0, 0, 0, 2, 0, 0, 4, 0, 0], 7), 190: (6590, [0, 4, 0, 0, 0, 0, 0, 0, 0, 1], 1), 191: (6591, [0, 0, 0, 4, 0, 1, 0, 0, 0, 0], 3), 192: (6592, [0, 0, 0, 0, 3, 1, 0, 2, 0, 0], 4), 193: (6593, [0, 0, 0, 0, 0, 0, 4, 0, 0, 0], 6), 194: (6594, [0, 0, 4, 2, 1, 2, 0, 0, 0, 0], 2), 195: (6595, [0, 0, 0, 0, 3, 3, 0, 2, 0, 0], 4), 196: (6596, [0, 0, 0, 4, 2, 1, 0, 0, 0, 0], 3), 197: (6597, [0, 0, 0, 4, 2, 0, 0, 1, 0, 0], 3), 198: (6598, [4, 1, 0, 0, 0, 0, 0, 0, 0, 2], 0), 199: (6599, [0, 1, 0, 0, 0, 0, 0, 0, 4, 1], 8)}\n",
    "# # r"
   ]
  },
  {
   "cell_type": "code",
   "execution_count": 155,
   "metadata": {},
   "outputs": [],
   "source": [
    "\n",
    "#t = softmax(v,1)\n",
    "#np.sum(t)\n",
    "#print(t)"
   ]
  },
  {
   "cell_type": "code",
   "execution_count": 2,
   "metadata": {},
   "outputs": [],
   "source": [
    "# def getConfusionMatrix(R):\n",
    "    \n",
    "#     C = np.zeros((10,10),dtype=float)\n",
    "#     n = len(R)\n",
    "#     d = np.zeros(10,dtype=float)\n",
    "#     for i in range(n):\n",
    "#         v = R[i+201][0]\n",
    "#         t = softmax(v,1)\n",
    "#         ind = R[i+201][1]\n",
    "#         C[ind,:] += t\n",
    "#         d[ind] += 1.0\n",
    "        \n",
    "#     for i in range(10):\n",
    "#         if d[i] > 0:\n",
    "#             C[i,:] = C[i,:]/d[i]\n",
    "            \n",
    "#     return C, d        "
   ]
  },
  {
   "cell_type": "code",
   "execution_count": 1,
   "metadata": {},
   "outputs": [],
   "source": [
    "# import matplotlib.pyplot as plt\n",
    "# C,d = getConfusionMatrix(r)\n",
    "# plt.imshow(C)\n",
    "# plt.colorbar()"
   ]
  },
  {
   "cell_type": "code",
   "execution_count": 198,
   "metadata": {},
   "outputs": [],
   "source": [
    "# softmax([0,0,0,0,0,0,0,0,0,5],1)"
   ]
  },
  {
   "cell_type": "code",
   "execution_count": 199,
   "metadata": {},
   "outputs": [],
   "source": [
    "# def getConfusionMatrix(R):\n",
    "    \n",
    "#     C = np.zeros((10,10),dtype=float)\n",
    "#     n = len(R)\n",
    "#     d = np.zeros(10,dtype=float)\n",
    "#     for i in range(n):\n",
    "#         v = R[i+1][1]\n",
    "#         t = softmax(v,1.0)\n",
    "#         ind = R[i+1][2]\n",
    "#         C[ind,:] += t\n",
    "#         d[ind] += 1.0\n",
    "        \n",
    "#     for i in range(10):\n",
    "#         if d[i] > 0:\n",
    "#             C[i,:] = C[i,:]/d[i]\n",
    "            \n",
    "#     return C, d        "
   ]
  },
  {
   "cell_type": "code",
   "execution_count": null,
   "metadata": {},
   "outputs": [],
   "source": []
  },
  {
   "cell_type": "code",
   "execution_count": null,
   "metadata": {},
   "outputs": [],
   "source": [
    "# def user_id_images(b):\n",
    "#     display(r_4)\n",
    "#     display(r_3)\n",
    "#     display(r_2)\n",
    "#     display(r_1)\n",
    "#     display(r_0)\n",
    "#     global count \n",
    "#     try: \n",
    "#         V = userid.value\n",
    "#         images = dataset[V]\n",
    "#         invalid.close()\n",
    "#         with out:\n",
    "#             imagshow(images[V*images_per_person])\n",
    "#         display(out)\n",
    "#         display(widgets.VBox([widgetsBox, buttonNext]))\n",
    "#         display(widgets.VBox([done]))\n",
    "#         userid.close()\n",
    "#         submit.close()\n",
    "#         name.close()\n",
    "#     except:\n",
    "#         if count == 0:\n",
    "#             display(invalid)\n",
    "#             count+=1\n",
    "#         else:\n",
    "#             count+=1\n",
    "        \n",
    "# #Displaying all of the data  "
   ]
  }
 ],
 "metadata": {
  "kernelspec": {
   "display_name": "Python 3",
   "language": "python",
   "name": "python3"
  },
  "language_info": {
   "codemirror_mode": {
    "name": "ipython",
    "version": 3
   },
   "file_extension": ".py",
   "mimetype": "text/x-python",
   "name": "python",
   "nbconvert_exporter": "python",
   "pygments_lexer": "ipython3",
   "version": "3.7.3"
  },
  "widgets": {
   "application/vnd.jupyter.widget-state+json": {
    "state": {},
    "version_major": 2,
    "version_minor": 0
   }
  }
 },
 "nbformat": 4,
 "nbformat_minor": 2
}
