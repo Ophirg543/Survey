{
 "cells": [
  {
   "cell_type": "code",
   "execution_count": 204,
   "metadata": {},
   "outputs": [],
   "source": [
    "import numpy             as np\n",
    "import matplotlib.pyplot as plt\n",
    "import smtplib\n",
    "import ipywidgets      as widgets\n",
    "from   ipywidgets      import Button, HBox, VBox\n",
    "from   IPython.display import display\n",
    "import os\n",
    "\n",
    "from   IPython.display import clear_output\n",
    "from IPython.display import display, HTML\n",
    "from IPython.display import FileLink, FileLinks\n",
    "from email.mime.multipart import MIMEMultipart \n",
    "from email.mime.text import MIMEText \n",
    "from email.mime.base import MIMEBase \n",
    "from email import encoders \n",
    "\n",
    "\n",
    "\n",
    "count = 0\n",
    "\n",
    "title = widgets.HTML(\n",
    "        value=\"<b>Image Survey</b>\",\n",
    "        placeholder='',\n",
    "        description='',\n",
    "    )\n",
    "\n",
    "instructions = widgets.HTML(\n",
    "        value=\"Instructions for survey:\",\n",
    "        placeholder='',\n",
    "        description='',\n",
    "    )\n",
    "\n",
    "i1 = widgets.HTML(\n",
    "        value=\"There will be displayed an image in front of you. You must go through each category below the image and choose the probability that the image may be the category given. \",\n",
    "        placeholder='',\n",
    "        description='',\n",
    "    )\n",
    "i2 = widgets.HTML(\n",
    "        value=\"Give a rating on how sure you are about the image belonging to each category:\",\n",
    "        placeholder='',\n",
    "        description='',\n",
    "    )\n",
    "r0 = widgets.HTML(\n",
    "        value=\"0 = There is no way this image falls under this category and there are no details of this in the image\",\n",
    "        placeholder='',\n",
    "        description='',\n",
    "    )\n",
    "r1 = widgets.HTML(\n",
    "        value=\"1 = There's a small chance that the image is part of this category\",\n",
    "        placeholder='',\n",
    "        description='',\n",
    "    )\n",
    "r2 = widgets.HTML(\n",
    "        value=\"2 = The image might be in this category, but definitely can be in another category too\",\n",
    "        placeholder='',\n",
    "        description='',\n",
    "    )\n",
    "r3 = widgets.HTML(\n",
    "        value=\"3 = It's probably this category, but there are details that can be interpreted as something else\",\n",
    "        placeholder='',\n",
    "        description='',\n",
    "    )\n",
    "r4 = widgets.HTML(\n",
    "        value=\"4 = You can say with 100% certainty that the photo definitely belongs to this category\",\n",
    "        placeholder='',\n",
    "        description='',\n",
    "    )\n",
    "r_0 = widgets.HTML(\n",
    "        value=\"0 = There is no way this image falls under this category and there are no details of this in the image\",\n",
    "        placeholder='',\n",
    "        description='',\n",
    "    )\n",
    "r_1 = widgets.HTML(\n",
    "        value=\"1 = There's a small chance that the image is part of this category\",\n",
    "        placeholder='',\n",
    "        description='',\n",
    "    )\n",
    "r_2 = widgets.HTML(\n",
    "        value=\"2 = The image might be in this category, but definitely can be in another category too\",\n",
    "        placeholder='',\n",
    "        description='',\n",
    "    )\n",
    "r_3 = widgets.HTML(\n",
    "        value=\"3 = It's probably this category, but there are details that can be interpreted as something else\",\n",
    "        placeholder='',\n",
    "        description='',\n",
    "    )\n",
    "r_4 = widgets.HTML(\n",
    "        value=\"4 = You can say with 100% certainty that the photo definitely belongs to this category\",\n",
    "        placeholder='',\n",
    "        description='',\n",
    "    )\n",
    "i3 = widgets.HTML(\n",
    "        value=\"Try to choose at least 3 categories to be non-zero.\",\n",
    "        placeholder='',\n",
    "        description='',\n",
    "    )\n",
    "i4 = widgets.HTML(\n",
    "        value=\"You will receive around 200 photos to look at and rate how much they look like each object. This should take around an hour. Once you are done rating the photos, the survey will naturally finish. If you do not do not have time to complete rating the photos, press the button done!. DO NOT press done! if you are not finished, as you will have to restart your work. Once you are done, you must email Ophir the results. Let Ophir know if you have any questions.\",\n",
    "        placeholder='',\n",
    "        description='',\n",
    "    )\n",
    "\n",
    "\n",
    "#Importing all files needed for this notebook\n",
    "\n",
    "\n",
    "filename   = 'data_batch_1'\n",
    "filename2 = 'Batch Names-Copy1'\n",
    "\n",
    "def unpickle(file):\n",
    "    import pickle\n",
    "    with open(file, 'rb') as fo:\n",
    "        dict = pickle.load(fo, encoding='bytes')\n",
    "    return dict\n",
    "\n",
    "file = unpickle(filename)\n",
    "file2 = unpickle(filename2)\n",
    "\n",
    "images = file[b'data'] \n",
    "labels = file[b'labels']\n",
    "label_names = file2[b'label_names']\n",
    "\n",
    "#loading all file data onto notebook\n",
    "\n",
    "images = images.reshape(len(labels), 3, 32, 32)\n",
    "\n",
    "def imagshow(img):\n",
    "    plt.imshow(np.transpose(img, (1, 2, 0))) #flip the grid from side to normal\n",
    "    plt.show()\n",
    "# plotting and showing the images\n",
    "\n",
    "\n",
    "dataset = {}\n",
    "total = len(images)\n",
    "image_ids = np.arange(total)\n",
    "images_per_person = 200\n",
    "people = int(total/images_per_person)\n",
    "for I in range(people):\n",
    "    ind1 = I*images_per_person\n",
    "    ind2 = (I+1)*images_per_person\n",
    "    dataset[I] = images[ind1:ind2,:,:,:]\n",
    "results= {}    \n",
    "I = 0\n",
    "answers = []\n",
    "datalen = len(labels)\n",
    "\n",
    "#arranging all the data to be used    \n",
    "\n",
    "def user(b):\n",
    "    display(widgets.VBox([name, userid, submit]))\n",
    "    instructions.close()\n",
    "    title.close()\n",
    "    i1.close()\n",
    "    r0.close()\n",
    "    r1.close()\n",
    "    r2.close()\n",
    "    r3.close()\n",
    "    r4.close()\n",
    "    i2.close()\n",
    "    i3.close()\n",
    "    i4.close()\n",
    "    ok.close()\n",
    "\n",
    "def user_id_images(b):\n",
    "    display(r_4)\n",
    "    display(r_3)\n",
    "    display(r_2)\n",
    "    display(r_1)\n",
    "    display(r_0)\n",
    "    global count \n",
    "    try: \n",
    "        V = userid.value\n",
    "        images = dataset[V]\n",
    "        invalid.close()\n",
    "        with out:\n",
    "            imagshow(images[V])\n",
    "        display(out)\n",
    "        display(widgets.VBox([widgetsBox, buttonNext]))\n",
    "        display(widgets.VBox([done]))\n",
    "        userid.close()\n",
    "        submit.close()\n",
    "        name.close()\n",
    "    except:\n",
    "        if count == 0:\n",
    "            display(invalid)\n",
    "            count+=1\n",
    "        else:\n",
    "            count+=1\n",
    "        \n",
    "#Displaying all of the data        \n",
    "    \n",
    "    \n",
    "def on_buttonNext_clicked(b):\n",
    "    R = userid.value\n",
    "    V1 = userid.value\n",
    "    images = dataset[R]\n",
    "    global V\n",
    "    #Only changes I for individual actions\n",
    "    V = V+1\n",
    "    if V < images_per_person:\n",
    "        with out: \n",
    "        #Do the things within \"out\" - which is the widget output\n",
    "            row = []\n",
    "        #The newlist that the answers will be appended to\n",
    "            for l in range(0,len(widget_labels)): #Creating widget answers by changing the individual widget values\n",
    "                row.extend([items[l].value]) #appending the widget answers \n",
    "                items[l].value = 0 #Resets the values\n",
    "            answers.append(row) #Puts in the new row answers into the overall answers\n",
    "            ID = (images_per_person*R)+V\n",
    "            results[V] = ID, row, labels[ID-1]\n",
    "            clear_output() #Resets the widget numbers\n",
    "            imagshow(images[V]) #Displays a new image \n",
    "            images_done = widgets.HTML(\n",
    "                value= str(len(results)) + \"/\" + str(images_per_person),\n",
    "                placeholder='',\n",
    "                description='',\n",
    "            )\n",
    "            display(images_done)\n",
    "    else:\n",
    "        finished_survey(b)\n",
    "\n",
    "        \n",
    "#Moving onto the next question\n",
    "\n",
    "\n",
    "\n",
    "dataresults = 'dataresults.npz'\n",
    "def finished_survey(b):\n",
    "    r_4.close()\n",
    "    r_3.close()\n",
    "    r_2.close()\n",
    "    r_1.close()\n",
    "    r_0.close()\n",
    "    N = name.value\n",
    "    V1 = userid.value\n",
    "    ID1= (images_per_person*V1)\n",
    "    ID2 = len(results)+ID1\n",
    "    widgetsBox.close()\n",
    "    buttonNext.close()\n",
    "    out.close()\n",
    "    done.close()\n",
    "    print(\"\"\"Thank you! Please copy and paste the following results and send to cifar10surveyanswers@gmail.com\n",
    "    \n",
    "    \n",
    "    To: cifar10surveyanswers@gmail.com\n",
    "    \n",
    "    Subject: {N}({V1}):{ID1}-{ID2}\n",
    "    \n",
    "    Body: {results}\n",
    "    \n",
    "    \"\"\".format(N=str(N),V1=str(V1),ID1=str(ID1),ID2=str(ID2), results=str(results))) \n",
    "\n",
    "\n"
   ]
  },
  {
   "cell_type": "code",
   "execution_count": null,
   "metadata": {},
   "outputs": [],
   "source": [
    "\n",
    "# # Image Survey\n",
    "\n",
    "# ### Instructions for the survey:\n",
    "\n",
    "# There will be displayed an image in front of you. You must go through each category below the image and choose the probability that the image may be the category given. \n",
    "\n",
    "# Give a rating on how sure you are about the image belonging to each category:\n",
    "\n",
    "# 4 = You can say with 100% certainty that the photo definitely belongs to this category <br>\n",
    "# 3 = It's probably this category, but there are details that can be interpreted as something else <br>\n",
    "# 2 = The image might be in this category, but definitely can be in another category too <br>\n",
    "# 1 = There's a small chance that the image is part of this category <br> \n",
    "# 0 = There is no way this image falls under this category and there are no details of this in the image <br>\n",
    "\n",
    "# Try to choose at least 3 categories to be non-zero. \n",
    "\n",
    "# You will receive around 200 photos to look at and rate how much they look like each object. This should take around an hour. Once you are done rating the photos, the survey will naturally finish. If you do not do not have time to complete rating the photos, press the button \"done!\". DO NOT press \"done\" if you are not finished, as you will have to restart your work. Once you are done, you must email Ophir the results. Let Ophir know if you have any questions. \n"
   ]
  },
  {
   "cell_type": "code",
   "execution_count": 205,
   "metadata": {},
   "outputs": [
    {
     "data": {
      "application/vnd.jupyter.widget-view+json": {
       "model_id": "",
       "version_major": 2,
       "version_minor": 0
      },
      "text/plain": [
       "HTML(value='<b>Image Survey</b>', placeholder='')"
      ]
     },
     "metadata": {},
     "output_type": "display_data"
    },
    {
     "data": {
      "application/vnd.jupyter.widget-view+json": {
       "model_id": "",
       "version_major": 2,
       "version_minor": 0
      },
      "text/plain": [
       "HTML(value='Instructions for survey:', placeholder='')"
      ]
     },
     "metadata": {},
     "output_type": "display_data"
    },
    {
     "data": {
      "application/vnd.jupyter.widget-view+json": {
       "model_id": "",
       "version_major": 2,
       "version_minor": 0
      },
      "text/plain": [
       "HTML(value='There will be displayed an image in front of you. You must go through each category below the imag…"
      ]
     },
     "metadata": {},
     "output_type": "display_data"
    },
    {
     "data": {
      "application/vnd.jupyter.widget-view+json": {
       "model_id": "",
       "version_major": 2,
       "version_minor": 0
      },
      "text/plain": [
       "HTML(value='Give a rating on how sure you are about the image belonging to each category:', placeholder='')"
      ]
     },
     "metadata": {},
     "output_type": "display_data"
    },
    {
     "data": {
      "application/vnd.jupyter.widget-view+json": {
       "model_id": "",
       "version_major": 2,
       "version_minor": 0
      },
      "text/plain": [
       "HTML(value='4 = You can say with 100% certainty that the photo definitely belongs to this category', placehold…"
      ]
     },
     "metadata": {},
     "output_type": "display_data"
    },
    {
     "data": {
      "application/vnd.jupyter.widget-view+json": {
       "model_id": "",
       "version_major": 2,
       "version_minor": 0
      },
      "text/plain": [
       "HTML(value=\"3 = It's probably this category, but there are details that can be interpreted as something else\",…"
      ]
     },
     "metadata": {},
     "output_type": "display_data"
    },
    {
     "data": {
      "application/vnd.jupyter.widget-view+json": {
       "model_id": "",
       "version_major": 2,
       "version_minor": 0
      },
      "text/plain": [
       "HTML(value='2 = The image might be in this category, but definitely can be in another category too', placehold…"
      ]
     },
     "metadata": {},
     "output_type": "display_data"
    },
    {
     "data": {
      "application/vnd.jupyter.widget-view+json": {
       "model_id": "",
       "version_major": 2,
       "version_minor": 0
      },
      "text/plain": [
       "HTML(value=\"1 = There's a small chance that the image is part of this category\", placeholder='')"
      ]
     },
     "metadata": {},
     "output_type": "display_data"
    },
    {
     "data": {
      "application/vnd.jupyter.widget-view+json": {
       "model_id": "",
       "version_major": 2,
       "version_minor": 0
      },
      "text/plain": [
       "HTML(value='0 = There is no way this image falls under this category and there are no details of this in the i…"
      ]
     },
     "metadata": {},
     "output_type": "display_data"
    },
    {
     "data": {
      "application/vnd.jupyter.widget-view+json": {
       "model_id": "",
       "version_major": 2,
       "version_minor": 0
      },
      "text/plain": [
       "HTML(value='Try to choose at least 3 categories to be non-zero.', placeholder='')"
      ]
     },
     "metadata": {},
     "output_type": "display_data"
    },
    {
     "data": {
      "application/vnd.jupyter.widget-view+json": {
       "model_id": "",
       "version_major": 2,
       "version_minor": 0
      },
      "text/plain": [
       "HTML(value='You will receive around 200 photos to look at and rate how much they look like each object. This s…"
      ]
     },
     "metadata": {},
     "output_type": "display_data"
    },
    {
     "data": {
      "application/vnd.jupyter.widget-view+json": {
       "model_id": "",
       "version_major": 2,
       "version_minor": 0
      },
      "text/plain": [
       "Button(description='OK', style=ButtonStyle())"
      ]
     },
     "metadata": {},
     "output_type": "display_data"
    },
    {
     "data": {
      "application/vnd.jupyter.widget-view+json": {
       "model_id": "566bc2dbe5194e4e9b88f82d19e305d2",
       "version_major": 2,
       "version_minor": 0
      },
      "text/plain": [
       "VBox(children=(Text(value='', description='Full Name:', placeholder=' '), IntText(value=0, description='USER I…"
      ]
     },
     "metadata": {},
     "output_type": "display_data"
    },
    {
     "data": {
      "application/vnd.jupyter.widget-view+json": {
       "model_id": "",
       "version_major": 2,
       "version_minor": 0
      },
      "text/plain": [
       "HTML(value='4 = You can say with 100% certainty that the photo definitely belongs to this category', placehold…"
      ]
     },
     "metadata": {},
     "output_type": "display_data"
    },
    {
     "data": {
      "application/vnd.jupyter.widget-view+json": {
       "model_id": "",
       "version_major": 2,
       "version_minor": 0
      },
      "text/plain": [
       "HTML(value=\"3 = It's probably this category, but there are details that can be interpreted as something else\",…"
      ]
     },
     "metadata": {},
     "output_type": "display_data"
    },
    {
     "data": {
      "application/vnd.jupyter.widget-view+json": {
       "model_id": "",
       "version_major": 2,
       "version_minor": 0
      },
      "text/plain": [
       "HTML(value='2 = The image might be in this category, but definitely can be in another category too', placehold…"
      ]
     },
     "metadata": {},
     "output_type": "display_data"
    },
    {
     "data": {
      "application/vnd.jupyter.widget-view+json": {
       "model_id": "",
       "version_major": 2,
       "version_minor": 0
      },
      "text/plain": [
       "HTML(value=\"1 = There's a small chance that the image is part of this category\", placeholder='')"
      ]
     },
     "metadata": {},
     "output_type": "display_data"
    },
    {
     "data": {
      "application/vnd.jupyter.widget-view+json": {
       "model_id": "",
       "version_major": 2,
       "version_minor": 0
      },
      "text/plain": [
       "HTML(value='0 = There is no way this image falls under this category and there are no details of this in the i…"
      ]
     },
     "metadata": {},
     "output_type": "display_data"
    },
    {
     "data": {
      "application/vnd.jupyter.widget-view+json": {
       "model_id": "",
       "version_major": 2,
       "version_minor": 0
      },
      "text/plain": [
       "Output()"
      ]
     },
     "metadata": {},
     "output_type": "display_data"
    },
    {
     "data": {
      "application/vnd.jupyter.widget-view+json": {
       "model_id": "7b8e55699d0c468aa2c49425ac196310",
       "version_major": 2,
       "version_minor": 0
      },
      "text/plain": [
       "VBox(children=(HBox(children=(VBox(children=(Label(value='airplane'), RadioButtons(index=4, layout=Layout(heig…"
      ]
     },
     "metadata": {},
     "output_type": "display_data"
    },
    {
     "data": {
      "application/vnd.jupyter.widget-view+json": {
       "model_id": "8a8672f2c10443ab8a88bd1fdc3efa98",
       "version_major": 2,
       "version_minor": 0
      },
      "text/plain": [
       "VBox(children=(Button(description='Done!', style=ButtonStyle()),))"
      ]
     },
     "metadata": {},
     "output_type": "display_data"
    },
    {
     "name": "stdout",
     "output_type": "stream",
     "text": [
      "Thank you! Please copy and paste the following results and send to cifar10surveyanswers@gmail.com\n",
      "    \n",
      "    \n",
      "    To: cifar10surveyanswers@gmail.com\n",
      "    \n",
      "    Subject: Ophir Greif(3):600-609\n",
      "    \n",
      "    Body: {1: (601, [0, 0, 0, 0, 0, 0, 0, 0, 0, 0], 0), 2: (602, [0, 0, 0, 0, 0, 0, 0, 0, 0, 0], 8), 3: (603, [0, 0, 0, 0, 0, 0, 0, 0, 0, 0], 8), 4: (604, [0, 0, 0, 0, 0, 0, 0, 0, 0, 0], 3), 5: (605, [0, 0, 0, 0, 0, 0, 0, 0, 0, 0], 0), 6: (606, [0, 0, 0, 0, 0, 0, 0, 0, 0, 0], 0), 7: (607, [0, 0, 0, 0, 0, 0, 0, 0, 0, 0], 1), 8: (608, [0, 0, 0, 0, 0, 0, 0, 0, 0, 0], 5), 9: (609, [0, 0, 0, 0, 0, 0, 0, 0, 0, 0], 0)}\n",
      "    \n",
      "    \n"
     ]
    }
   ],
   "source": [
    "widget_labels = ['airplane', 'car', 'bird', 'cat', 'deer', 'dog', 'frog', 'horse', 'ship', 'truck']\n",
    "confidence    = [4, 3, 2, 1, 0]\n",
    "items  = [widgets.RadioButtons(options=confidence, \n",
    "                layout=widgets.Layout(width='50px', height='150px'), value = 0) for l in widget_labels] \n",
    "widgetsBox = widgets.HBox([widgets.VBox([widgets.Label(widget_labels[l]), items[l]]) for l in range(0,len(widget_labels))])\n",
    "out        = widgets.Output()\n",
    "#Base of files \n",
    "\n",
    "userid = widgets.IntText(\n",
    "    value= 0,\n",
    "    description='USER ID#:',\n",
    "    disabled=False)\n",
    "\n",
    "invalid = widgets.HTML(\n",
    "    value=\"Invalid USER ID\",\n",
    "    placeholder='',\n",
    "    description='',\n",
    ")\n",
    "\n",
    "ok = widgets.Button(description='OK')\n",
    "\n",
    "name = widgets.Text(\n",
    "    value='',\n",
    "    placeholder=' ',\n",
    "    description='Full Name:',\n",
    "    disabled=False\n",
    ")\n",
    "\n",
    "\n",
    "display(title)\n",
    "display(instructions)\n",
    "display(i1)\n",
    "display(i2)\n",
    "display(r4)\n",
    "display(r3)\n",
    "display(r2)\n",
    "display(r1)\n",
    "display(r0)\n",
    "display(i3)\n",
    "display(i4)\n",
    "display(ok)\n",
    "\n",
    "ok.on_click(user)\n",
    "\n",
    "#Interactive widgets\n",
    "buttonNext = widgets.Button(description='Next')\n",
    "submit = widgets.Button(description=\"Submit\")\n",
    "back = widgets.Button(description=\"Back\")\n",
    "done = widgets.Button(description= 'Done!')\n",
    "#buttons\n",
    "\n",
    "buttonNext.on_click(on_buttonNext_clicked)\n",
    "done.on_click(finished_survey)\n",
    "    \n",
    "submit.on_click(user_id_images)\n",
    "\n",
    "#Displaying the original userid box\n",
    "\n",
    "\n",
    "V = userid.value\n",
    "ID1= (images_per_person*V)"
   ]
  },
  {
   "cell_type": "code",
   "execution_count": 202,
   "metadata": {},
   "outputs": [],
   "source": [
    "# import numpy as np\n",
    "# def softmax(v,theta=.1):\n",
    "#     v = np.float32(v)\n",
    "#     t = np.exp(theta*v)\n",
    "#     t = t/np.sum(t)\n",
    "#     return t\n",
    "    "
   ]
  },
  {
   "cell_type": "code",
   "execution_count": 203,
   "metadata": {},
   "outputs": [],
   "source": [
    "# r = unpickle('Ophir Greif(1)_200-399')\n",
    "# r"
   ]
  },
  {
   "cell_type": "code",
   "execution_count": 155,
   "metadata": {},
   "outputs": [],
   "source": [
    "\n",
    "#t = softmax(v,1)\n",
    "#np.sum(t)\n",
    "#print(t)"
   ]
  },
  {
   "cell_type": "code",
   "execution_count": 201,
   "metadata": {},
   "outputs": [],
   "source": [
    "# def getConfusionMatrix(R):\n",
    "    \n",
    "#     C = np.zeros((10,10),dtype=float)\n",
    "#     n = len(R)\n",
    "#     d = np.zeros(10,dtype=float)\n",
    "#     for i in range(n):\n",
    "#         v = R[i+201][0]\n",
    "#         t = softmax(v,1)\n",
    "#         ind = R[i+201][1]\n",
    "#         C[ind,:] += t\n",
    "#         d[ind] += 1.0\n",
    "        \n",
    "#     for i in range(10):\n",
    "#         if d[i] > 0:\n",
    "#             C[i,:] = C[i,:]/d[i]\n",
    "            \n",
    "#     return C, d        "
   ]
  },
  {
   "cell_type": "code",
   "execution_count": 200,
   "metadata": {},
   "outputs": [],
   "source": [
    "# import matplotlib.pyplot as plt\n",
    "# C,d = getConfusionMatrix(r)\n",
    "# plt.imshow(C)\n",
    "# plt.colorbar()"
   ]
  },
  {
   "cell_type": "code",
   "execution_count": 198,
   "metadata": {},
   "outputs": [],
   "source": [
    "# softmax([0,0,0,0,0,0,0,0,0,5],1)"
   ]
  },
  {
   "cell_type": "code",
   "execution_count": 199,
   "metadata": {},
   "outputs": [],
   "source": [
    "# def getConfusionMatrix(R):\n",
    "    \n",
    "#     C = np.zeros((10,10),dtype=float)\n",
    "#     n = len(R)\n",
    "#     d = np.zeros(10,dtype=float)\n",
    "#     for i in range(n):\n",
    "#         v = R[i+1][1]\n",
    "#         t = softmax(v,1.0)\n",
    "#         ind = R[i+1][2]\n",
    "#         C[ind,:] += t\n",
    "#         d[ind] += 1.0\n",
    "        \n",
    "#     for i in range(10):\n",
    "#         if d[i] > 0:\n",
    "#             C[i,:] = C[i,:]/d[i]\n",
    "            \n",
    "#     return C, d        "
   ]
  },
  {
   "cell_type": "code",
   "execution_count": null,
   "metadata": {},
   "outputs": [],
   "source": []
  }
 ],
 "metadata": {
  "kernelspec": {
   "display_name": "Python 3",
   "language": "python",
   "name": "python3"
  },
  "language_info": {
   "codemirror_mode": {
    "name": "ipython",
    "version": 3
   },
   "file_extension": ".py",
   "mimetype": "text/x-python",
   "name": "python",
   "nbconvert_exporter": "python",
   "pygments_lexer": "ipython3",
   "version": "3.7.3"
  },
  "widgets": {
   "application/vnd.jupyter.widget-state+json": {
    "state": {},
    "version_major": 2,
    "version_minor": 0
   }
  }
 },
 "nbformat": 4,
 "nbformat_minor": 2
}
